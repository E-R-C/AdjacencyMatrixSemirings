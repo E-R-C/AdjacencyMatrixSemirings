{
 "cells": [
  {
   "cell_type": "code",
   "execution_count": 80,
   "metadata": {},
   "outputs": [],
   "source": [
    "import numpy as np\n",
    "class Matrix:\n",
    "    def __init__(self, rows=None, columns=None, array=\"potato\"):\n",
    "        ## Array is defined by array[row][column]\n",
    "        if array == \"potato\":\n",
    "            self.columns = columns\n",
    "            self.rows = rows\n",
    "            self.array = np.array([[0 for c in range(columns)] for r in range(rows)])\n",
    "        else:\n",
    "            self.array = np.copy(array)\n",
    "            self.rows = len(self.array)\n",
    "            self.columns = len(self.array[0])\n",
    "    def get_rows(self):\n",
    "        return self.rows\n",
    "    def get_columns(self):\n",
    "        return seslf.columns\n",
    "    def set_matrix(self, new_matrix):\n",
    "        self.array = new_matrix\n",
    "    def get_matrix(self):\n",
    "        return self.array\n",
    "    def set_value(self, row, column, value):\n",
    "        self.array[row][column] = value\n",
    "    def get_value(self, row, column):\n",
    "        return self.array[row][column]\n",
    "    def plus(self, another_matrix, operator):\n",
    "        other_array = another_matrix.get_matrix()\n",
    "        assert self.columns == another_matrix.columns and self.rows == another_matrix.rows\n",
    "        result = [[0 for _ in range(another_matrix.columns)] for _ in range(self.rows)]\n",
    "        for thisRow in range(len(result)):\n",
    "            for thisColumn in range(len(result[0])):\n",
    "                result[thisRow][thisColumn] = self.__helper_add(thisRow, thisColumn, other_array, operator)\n",
    "        return Matrix(array=result)\n",
    "    def __helper_add(self, row, column, other_array, operator):\n",
    "        return operator.op1(self.array[row][column], other_array[row][column])\n",
    "    # returns a new array\n",
    "    def multiply(self, another_matrix, operator):\n",
    "        other_array = another_matrix.get_matrix()\n",
    "        assert self.columns == another_matrix.rows \n",
    "        result = [[0 for _ in range(another_matrix.columns)] for _ in range(self.rows)]\n",
    "        for thisRow in range(len(result)):\n",
    "            for thisColumn in range(len(result[0])):\n",
    "                result[thisRow][thisColumn] = self.__helper_mult(thisRow, thisColumn, other_array, operator)\n",
    "        return Matrix(array=result)\n",
    "    \n",
    "    def __helper_mult(self, row, column, other_array, operator):\n",
    "        total = operator.OP1_ID\n",
    "        for c in range(len(other_array)):\n",
    "            other_value = other_array[c][column]\n",
    "            this_value = self.array[row][c]\n",
    "            total = operator.op1(total,operator.op2(this_value, other_value))\n",
    "        return total\n",
    "    def copy(self):\n",
    "        new_array = [row[:] for row in self.array]\n",
    "        return Matrix(array=new_array)\n",
    "    # Operator is an AddMult or MinPlus\n",
    "    def star(self, operator):\n",
    "        if len(self.array) <= 1:\n",
    "            return Matrix(array=[[operator.OP2_ID]])\n",
    "        resultMatrix = self.copy()\n",
    "        half = int(self.rows / 2) # We could also use columns, \n",
    "        # I am assuming a Square matrix\n",
    "        a = Matrix(array=self.array[0:half,0:half])\n",
    "        b = Matrix(array=self.array[0:half,half:])\n",
    "        c = Matrix(array=self.array[half:,0:half])\n",
    "        d = Matrix(array=self.array[half:,half:])\n",
    "        dstar_Matrix = d.star(operator)\n",
    "        f = a.plus(b.multiply(dstar_Matrix.multiply(c,operator),operator),operator)\n",
    "        fstar_matrix = f.star(operator)\n",
    "        new_b = fstar_matrix.multiply(b.multiply(dstar_Matrix,operator),operator)\n",
    "        new_c = dstar_Matrix.multiply(c.multiply(fstar_matrix,operator),operator)\n",
    "        new_d = dstar_Matrix.plus(dstar_Matrix.multiply(\n",
    "            c.multiply(fstar_matrix.multiply(\n",
    "                b.multiply(dstar_Matrix,operator),operator),operator),operator),operator)\n",
    "        return flatten_four_2D_arrays(fstar_matrix.get_matrix(),\n",
    "                                      new_b.get_matrix(),\n",
    "                                      new_c.get_matrix(),\n",
    "                                      new_d.get_matrix())\n",
    "    \n",
    "    def printSelf(self):\n",
    "        print(np.matrix(self.array))\n",
    "    \n",
    "class AddMult:\n",
    "    OP1_ID = 0\n",
    "    OP2_ID = 1\n",
    "    @staticmethod\n",
    "    def op1(a, b):\n",
    "        return a + b\n",
    "    @staticmethod\n",
    "    def op2(a, b):\n",
    "        return a * b\n",
    "class MinPlus:\n",
    "    OP1_ID = float(\"inf\")\n",
    "    OP2_ID = 0\n",
    "    @staticmethod\n",
    "    def op1(a,b):\n",
    "        return min(a,b)\n",
    "    @staticmethod\n",
    "    def op2(a,b):\n",
    "        return a + b\n",
    "\n",
    "# The arguments will be arrays\n",
    "def flatten_four_2D_arrays(a,b,c,d):\n",
    "    # len(a) == rows of a\n",
    "    # len(a[0]) == columns of a\n",
    "    return Matrix(array=np.concatenate([\n",
    "    np.concatenate([a,b], axis=1),\n",
    "    np.concatenate([c,d], axis=1)\n",
    "]))\n",
    "     \n",
    "def printMatrix(array):\n",
    "    print(np.matrix(array))"
   ]
  },
  {
   "cell_type": "code",
   "execution_count": 86,
   "metadata": {},
   "outputs": [],
   "source": [
    "inf = float(\"inf\")\n",
    "array1 = [\n",
    "    [0,1,9,5],\n",
    "    [inf,0,inf,2],\n",
    "    [inf,inf,0,inf],\n",
    "    [inf,inf,inf,0]\n",
    "]\n",
    "array = np.array(array1)\n"
   ]
  },
  {
   "cell_type": "code",
   "execution_count": null,
   "metadata": {},
   "outputs": [],
   "source": []
  },
  {
   "cell_type": "code",
   "execution_count": 87,
   "metadata": {},
   "outputs": [
    {
     "name": "stdout",
     "output_type": "stream",
     "text": [
      "2\n"
     ]
    }
   ],
   "source": [
    "half = int(len(array)/2)\n",
    "print(half)\n",
    "a = array[0:half,0:half]\n",
    "b = array[0:half,half:]\n",
    "c = array[half:,0:half]\n",
    "d = array[half:,half:]"
   ]
  },
  {
   "cell_type": "code",
   "execution_count": 88,
   "metadata": {},
   "outputs": [
    {
     "data": {
      "text/plain": [
       "array([[ inf,  inf],\n",
       "       [ inf,  inf]])"
      ]
     },
     "execution_count": 88,
     "metadata": {},
     "output_type": "execute_result"
    }
   ],
   "source": [
    "c"
   ]
  },
  {
   "cell_type": "code",
   "execution_count": 89,
   "metadata": {},
   "outputs": [
    {
     "name": "stdout",
     "output_type": "stream",
     "text": [
      "[[  0.   1.   9.   3.]\n",
      " [ inf   0.  inf   2.]\n",
      " [ inf  inf   0.  inf]\n",
      " [ inf  inf  inf   0.]]\n"
     ]
    },
    {
     "name": "stderr",
     "output_type": "stream",
     "text": [
      "/home/eric/anaconda3/lib/python3.6/site-packages/ipykernel_launcher.py:5: FutureWarning: elementwise comparison failed; returning scalar instead, but in the future will perform elementwise comparison\n",
      "  \"\"\"\n"
     ]
    }
   ],
   "source": [
    "Matrix(array=array1).star(MinPlus()).printSelf()"
   ]
  },
  {
   "cell_type": "code",
   "execution_count": 93,
   "metadata": {
    "collapsed": true
   },
   "outputs": [],
   "source": [
    "import time\n",
    "\n",
    "current_milli_time = lambda: int(round(time.time() * 1000))"
   ]
  },
  {
   "cell_type": "code",
   "execution_count": 97,
   "metadata": {},
   "outputs": [
    {
     "name": "stderr",
     "output_type": "stream",
     "text": [
      "/home/eric/anaconda3/lib/python3.6/site-packages/ipykernel_launcher.py:5: FutureWarning: elementwise comparison failed; returning scalar instead, but in the future will perform elementwise comparison\n",
      "  \"\"\"\n"
     ]
    },
    {
     "name": "stdout",
     "output_type": "stream",
     "text": [
      "[[ 0.          0.01648487  0.00676841 ...,  0.01570087  0.00995638\n",
      "   0.00956095]\n",
      " [ 0.00754154  0.          0.00962982 ...,  0.00634094  0.00415931\n",
      "   0.00945124]\n",
      " [ 0.01550561  0.01726036  0.         ...,  0.01659339  0.0139306\n",
      "   0.01194317]\n",
      " ..., \n",
      " [ 0.01651635  0.01709752  0.01423409 ...,  0.          0.01454397\n",
      "   0.0152936 ]\n",
      " [ 0.01063269  0.01004591  0.00798019 ...,  0.01100086  0.          0.00710675]\n",
      " [ 0.0085743   0.01199646  0.00990361 ...,  0.01193409  0.00627333  0.        ]]\n",
      "168364\n"
     ]
    }
   ],
   "source": [
    "start_time = current_milli_time()\n",
    "array = np.random.rand(500,500)\n",
    "Matrix(array=array).star(MinPlus()).printSelf()\n",
    "print(current_milli_time() - start_time)"
   ]
  },
  {
   "cell_type": "code",
   "execution_count": 100,
   "metadata": {},
   "outputs": [],
   "source": [
    "import pandas as pd"
   ]
  },
  {
   "cell_type": "code",
   "execution_count": 101,
   "metadata": {
    "collapsed": true
   },
   "outputs": [],
   "source": [
    "df = pd.read_csv(\"./FilteredMatrix.csv\")"
   ]
  },
  {
   "cell_type": "code",
   "execution_count": 107,
   "metadata": {},
   "outputs": [
    {
     "name": "stderr",
     "output_type": "stream",
     "text": [
      "/home/eric/anaconda3/lib/python3.6/site-packages/ipykernel_launcher.py:5: FutureWarning: elementwise comparison failed; returning scalar instead, but in the future will perform elementwise comparison\n",
      "  \"\"\"\n"
     ]
    }
   ],
   "source": [
    "real_thing_array = np.copy(np.array(df.values[0:500,0:500],dtype=float), )\n",
    "inf = float(\"inf\")\n",
    "\n",
    "for x in range(len(real_thing_array)):\n",
    "    for y in range(len(real_thing_array[0])):\n",
    "        if x == y:\n",
    "            real_thing_array[x][y] = inf\n",
    "        elif real_thing_array[x][y] == 0:\n",
    "            real_thing_array[x][y] = inf\n",
    "real_thing = Matrix(array=real_thing_array)\n",
    "result = real_thing.star(MinPlus())"
   ]
  },
  {
   "cell_type": "code",
   "execution_count": 108,
   "metadata": {},
   "outputs": [
    {
     "name": "stdout",
     "output_type": "stream",
     "text": [
      "[[ 0.  1.  1. ...,  3.  3.  3.]\n",
      " [ 1.  0.  1. ...,  3.  3.  3.]\n",
      " [ 1.  1.  0. ...,  4.  4.  4.]\n",
      " ..., \n",
      " [ 1.  1.  1. ...,  0.  1.  4.]\n",
      " [ 1.  1.  1. ...,  4.  0.  4.]\n",
      " [ 1.  1.  1. ...,  4.  4.  0.]]\n"
     ]
    }
   ],
   "source": [
    "result.printSelf()"
   ]
  },
  {
   "cell_type": "code",
   "execution_count": 114,
   "metadata": {},
   "outputs": [
    {
     "name": "stdout",
     "output_type": "stream",
     "text": [
      "11,258\n",
      "5.0\n"
     ]
    }
   ],
   "source": [
    "import math\n",
    "twoDarr = result.get_matrix()\n",
    "maximum = 0\n",
    "best_row = -1\n",
    "best_column = -1\n",
    "for i in range(len(twoDarr)):\n",
    "    for j in range(len(twoDarr[0])):\n",
    "        if twoDarr[i][j] > maximum and not math.isinf(twoDarr[i][j]):\n",
    "            maximum = twoDarr[i][j]\n",
    "            best_row = i\n",
    "            best_column = j\n",
    "print(str(best_row) + \",\" + str(best_column))\n",
    "print(twoDarr[best_row][best_column])"
   ]
  },
  {
   "cell_type": "code",
   "execution_count": 116,
   "metadata": {},
   "outputs": [],
   "source": [
    "import pickle\n",
    "index_to_link_dict = pickle.load(open(\"./index_to_link_dict.pickle\", \"rb\"))"
   ]
  },
  {
   "cell_type": "code",
   "execution_count": 117,
   "metadata": {},
   "outputs": [
    {
     "data": {
      "text/plain": [
       "'https://www.hendrix.edu/CampusWeb'"
      ]
     },
     "execution_count": 117,
     "metadata": {},
     "output_type": "execute_result"
    }
   ],
   "source": [
    "index_to_link_dict[11]"
   ]
  },
  {
   "cell_type": "code",
   "execution_count": 118,
   "metadata": {},
   "outputs": [
    {
     "data": {
      "text/plain": [
       "'http://www.hendrix.edu/alumni/alumni.aspx?id=150'"
      ]
     },
     "execution_count": 118,
     "metadata": {},
     "output_type": "execute_result"
    }
   ],
   "source": [
    "index_to_link_dict[258]"
   ]
  },
  {
   "cell_type": "code",
   "execution_count": 119,
   "metadata": {},
   "outputs": [
    {
     "name": "stderr",
     "output_type": "stream",
     "text": [
      "/home/eric/anaconda3/lib/python3.6/site-packages/ipykernel_launcher.py:5: FutureWarning: elementwise comparison failed; returning scalar instead, but in the future will perform elementwise comparison\n",
      "  \"\"\"\n"
     ]
    },
    {
     "name": "stdout",
     "output_type": "stream",
     "text": [
      "11,258\n",
      "5.0\n"
     ]
    }
   ],
   "source": [
    "real_thing_array = np.copy(np.array(df.values[0:500,0:500],dtype=float), )\n",
    "inf = float(\"inf\")\n",
    "\n",
    "for x in range(len(real_thing_array)):\n",
    "    for y in range(len(real_thing_array[0])):\n",
    "        if x == y:\n",
    "            real_thing_array[x][y] = inf\n",
    "        elif real_thing_array[x][y] == 0:\n",
    "            real_thing_array[x][y] = inf\n",
    "real_thing = Matrix(array=real_thing_array)\n",
    "result = real_thing.star(MinPlus())\n",
    "import math\n",
    "twoDarr = result.get_matrix()\n",
    "maximum = 0\n",
    "best_row = -1\n",
    "best_column = -1\n",
    "for i in range(len(twoDarr)):\n",
    "    for j in range(len(twoDarr[0])):\n",
    "        if twoDarr[i][j] > maximum and not math.isinf(twoDarr[i][j]):\n",
    "            maximum = twoDarr[i][j]\n",
    "            best_row = i\n",
    "            best_column = j\n",
    "print(str(best_row) + \",\" + str(best_column))\n",
    "print(twoDarr[best_row][best_column])"
   ]
  },
  {
   "cell_type": "code",
   "execution_count": 120,
   "metadata": {},
   "outputs": [
    {
     "data": {
      "text/plain": [
       "'https://www.hendrix.edu/CampusWeb'"
      ]
     },
     "execution_count": 120,
     "metadata": {},
     "output_type": "execute_result"
    }
   ],
   "source": [
    "index_to_link_dict[11]"
   ]
  },
  {
   "cell_type": "code",
   "execution_count": 121,
   "metadata": {},
   "outputs": [
    {
     "data": {
      "text/plain": [
       "'http://www.hendrix.edu/alumni/alumni.aspx?id=150'"
      ]
     },
     "execution_count": 121,
     "metadata": {},
     "output_type": "execute_result"
    }
   ],
   "source": [
    "index_to_link_dict[258]"
   ]
  },
  {
   "cell_type": "code",
   "execution_count": 141,
   "metadata": {},
   "outputs": [
    {
     "name": "stdout",
     "output_type": "stream",
     "text": [
      "[256.0, 239.33333333333334, 222.66666666666669, 206.0, 189.33333333333334, 172.66666666666666]\n"
     ]
    },
    {
     "data": {
      "image/png": "[encoded data removed]",
      "text/plain": [
       "<matplotlib.figure.Figure at 0x7f9c30f80710>"
      ]
     },
     "metadata": {},
     "output_type": "display_data"
    }
   ],
   "source": [
    "from scipy.misc import imsave\n",
    "import matplotlib.pyplot as plt\n",
    "freq = []\n",
    "longest_path = twoDarr[best_row][best_column]\n",
    "grey = [100,100,100]\n",
    "# If the path is length 0, then we want white, if the path is length longest_path we want color\n",
    "colorScheme = [256 - (x/(longest_path + 1)*100) for x in range(int(longest_path + 1))]\n",
    "# colorScheme.reverse()\n",
    "print(colorScheme)\n",
    "arrayOfRGB = [[[] for c in range(len(twoDarr[0]))] for r in range(len(twoDarr))]\n",
    "for x in range(len(twoDarr)):\n",
    "    for y in range(len(twoDarr[0])):\n",
    "        if math.isinf(twoDarr[x][y]):\n",
    "            arrayOfRGB[x][y] = grey\n",
    "            freq.append(8)\n",
    "        else:\n",
    "            index = int(twoDarr[x][y])\n",
    "            arrayOfRGB[x][y] = [colorScheme[index],colorScheme[index],colorScheme[index]]\n",
    "            freq.append(index)\n",
    "imsave(\"Paths.png\",arrayOfRGB)\n",
    "arrayOfRGB = None\n",
    "plt.hist(freq)\n",
    "plt.show()"
   ]
  },
  {
   "cell_type": "code",
   "execution_count": null,
   "metadata": {
    "collapsed": true
   },
   "outputs": [],
   "source": []
  }
 ],
 "metadata": {
  "kernelspec": {
   "display_name": "Python 3",
   "language": "python",
   "name": "python3"
  },
  "language_info": {
   "codemirror_mode": {
    "name": "ipython",
    "version": 3
   },
   "file_extension": ".py",
   "mimetype": "text/x-python",
   "name": "python",
   "nbconvert_exporter": "python",
   "pygments_lexer": "ipython3",
   "version": "3.6.3"
  }
 },
 "nbformat": 4,
 "nbformat_minor": 2
}
