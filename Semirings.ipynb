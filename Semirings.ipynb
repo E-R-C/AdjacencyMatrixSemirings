{
 "cells": [
  {
   "cell_type": "code",
   "execution_count": 1,
   "metadata": {
    "collapsed": true
   },
   "outputs": [],
   "source": [
    "import numpy as np"
   ]
  },
  {
   "cell_type": "code",
   "execution_count": 72,
   "metadata": {
    "collapsed": true
   },
   "outputs": [],
   "source": [
    "class Matrix:\n",
    "    def __init__(self, size):\n",
    "        ## Array is defined by array[row][column]\n",
    "        columns = size\n",
    "        rows = size\n",
    "        self.array = [[0 for _ in range(columns)] for _ in range(rows)]\n",
    "        self.size = size\n",
    "    \n",
    "    def set_matrix(self, new_matrix):\n",
    "        self.array = new_matrix\n",
    "    \n",
    "    def get_matrix(self):\n",
    "        return self.array\n",
    "    def set_value(self, row, column, value):\n",
    "        self.array[row][column] = value\n",
    "    \n",
    "    def multiply(self, another_matrix, operator):\n",
    "        other_array = another_matrix.get_matrix()\n",
    "        assert len(other_array) == len(other_array[0]) == self.size \n",
    "        result = [[0 for _ in range(self.size)] for _ in range(self.size)]\n",
    "        for thisRow in range(len(self.array)):\n",
    "            for thisColumn in range(len(self.array[0])):\n",
    "                result[thisRow][thisColumn] = self.__helper_mult(thisRow, thisColumn, other_array, operator)\n",
    "        return result\n",
    "    \n",
    "    def __helper_mult(self, row, column, other_array, operator):\n",
    "        total = operator.OP1_ID\n",
    "        for c in range(len(other_array)):\n",
    "            other_value = other_array[c][column]\n",
    "            this_value = self.array[row][c]\n",
    "            total = operator.op1(total,operator.op2(this_value, other_value))\n",
    "        return total\n",
    "    def copy(self):\n",
    "        new_array = [row[:] for row in self.array]\n",
    "        result = Matrix(size)\n",
    "        result.set_matrix(new_array)\n",
    "        return result\n",
    "    \n",
    "    def printSelf(self):\n",
    "        print(np.matrix(self.array))\n",
    "    \n",
    "class AddMult:\n",
    "    OP1_ID = 0\n",
    "    OP2_ID = 1\n",
    "    @staticmethod\n",
    "    def op1(a, b):\n",
    "        return a + b\n",
    "    @staticmethod\n",
    "    def op2(a, b):\n",
    "        return a * b\n",
    "    \n",
    "def printMatrix(array):\n",
    "    print(np.matrix(array))"
   ]
  },
  {
   "cell_type": "code",
   "execution_count": 73,
   "metadata": {},
   "outputs": [
    {
     "name": "stdout",
     "output_type": "stream",
     "text": [
      "[[1 0 0]\n",
      " [0 1 0]\n",
      " [0 2 1]]\n",
      "\n",
      "[[1 0 0]\n",
      " [0 1 0]\n",
      " [0 4 1]]\n"
     ]
    }
   ],
   "source": [
    "m = Matrix(3)\n",
    "m.set_value(0,0,1)\n",
    "m.set_value(1,1,1)\n",
    "m.set_value(2,2,1)\n",
    "m.set_value(2,1,2)\n",
    "m.printSelf()\n",
    "print()\n",
    "printMatrix(m.multiply(m, AddMult()))\n"
   ]
  },
  {
   "cell_type": "code",
   "execution_count": null,
   "metadata": {
    "collapsed": true
   },
   "outputs": [],
   "source": []
  }
 ],
 "metadata": {
  "kernelspec": {
   "display_name": "Python 3",
   "language": "python",
   "name": "python3"
  },
  "language_info": {
   "codemirror_mode": {
    "name": "ipython",
    "version": 3
   },
   "file_extension": ".py",
   "mimetype": "text/x-python",
   "name": "python",
   "nbconvert_exporter": "python",
   "pygments_lexer": "ipython3",
   "version": "3.6.1"
  }
 },
 "nbformat": 4,
 "nbformat_minor": 2
}
